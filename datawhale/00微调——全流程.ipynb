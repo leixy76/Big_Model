{
 "cells": [
  {
   "cell_type": "code",
   "execution_count": null,
   "metadata": {},
   "outputs": [],
   "source": [
    "import torch\n",
    "import json\n",
    "from peft import LoraConfig,TaskType,get_peft_model\n",
    "from datasets import Dataset\n",
    "import itertools\n",
    "import numpy as np\n",
    "import pprint\n",
    "from transformers import AutoTokenizer,AutoModelForCausalLM,Trainer,DataCollatorForSeq2Seq,TrainingArguments"
   ]
  },
  {
   "cell_type": "code",
   "execution_count": null,
   "metadata": {},
   "outputs": [],
   "source": [
    "# 加载模型和分词器\n",
    "model_path=\"D:\\Program Projects\\Python Projects\\DB-GPT\\models\\Qwen2-0.5B\"\n",
    "\n",
    "tokenizer = AutoTokenizer.from_pretrained(model_path, use_fast=False, trust_remote_code=True)\n",
    "model = AutoModelForCausalLM.from_pretrained(model_path, trust_remote_code=True, torch_dtype=torch.half, device_map=\"auto\")\n",
    "model.config.pad_token_id=tokenizer.pad_token_id\n",
    "# 这是模型决定的结束的词元token和它的id\n",
    "print(f\"eos_token: {tokenizer.eos_token}, id: {tokenizer.eos_token_id}\") \n",
    "print(f\"pad_token: {tokenizer.pad_token}, id: {tokenizer.pad_token_id}\") \n"
   ]
  },
  {
   "cell_type": "code",
   "execution_count": null,
   "metadata": {},
   "outputs": [],
   "source": [
    "# 加载训练数据\n",
    "data=[]\n",
    "data_path = \"../huanhuan.json\"\n",
    "with open(data_path) as f:\n",
    "    data = json.load(f)\n",
    "data"
   ]
  },
  {
   "cell_type": "code",
   "execution_count": null,
   "metadata": {},
   "outputs": [],
   "source": [
    "# 转换成Dataset\n",
    "train_dataset = Dataset.from_list(data)\n",
    "train_dataset"
   ]
  },
  {
   "cell_type": "code",
   "execution_count": null,
   "metadata": {},
   "outputs": [],
   "source": [
    "# 打印几条看看\n",
    "data_temp = itertools.islice(train_dataset,5)\n",
    "for i in data_temp:\n",
    "    print(i)"
   ]
  },
  {
   "cell_type": "code",
   "execution_count": null,
   "metadata": {},
   "outputs": [],
   "source": [
    "# 定义推理函数\n",
    "def inference(model,tokenizer,text):\n",
    "    model.eval() # 推理模式\n",
    "    text = \"\\n\".join([\"<|system|>\", \"现在你要扮演皇帝身边的女人--甄嬛\", \"<|user|>\", text + \"<|assistant|>\"]).strip()+ \"\\n\"\n",
    "    input_ids = tokenizer.encode(text,return_tensors='pt',truncation=True,max_length=1024)\n",
    "    device = model.device\n",
    "    generated_tokens=model.generate(\n",
    "        input_ids=input_ids.to(device), \n",
    "        max_length=512, # 生成更过内容时，需要更多时间\n",
    "        pad_token_id=tokenizer.pad_token_id,\n",
    "        temperature=0.5,\n",
    "        num_return_sequences=1\n",
    "        \n",
    "    )\n",
    "\n",
    "    generated_text_with_prompt = tokenizer.batch_decode(generated_tokens,skip_special_tokens=True)\n",
    "    generated_text_answer=generated_text_with_prompt[0][len(text):]\n",
    "    return generated_text_answer"
   ]
  },
  {
   "cell_type": "code",
   "execution_count": null,
   "metadata": {},
   "outputs": [],
   "source": [
    "text = \"你会干什么\"\n",
    "pprint.pprint(inference(model,tokenizer,text))"
   ]
  },
  {
   "cell_type": "code",
   "execution_count": null,
   "metadata": {},
   "outputs": [],
   "source": [
    "# 分词编码及预处理\n",
    "def process_func(example):\n",
    "\n",
    "    # 定义列表\n",
    "    input_ids, labels = [], []\n",
    "\n",
    "\n",
    "    # 设置编码最长编码\n",
    "    MAX_LENGTH = 512 \n",
    "\n",
    "\n",
    "    # instruction文本、编码\n",
    "    text_instruction = \"\\n\".join([\"<|system|>\", \"现在你要扮演皇帝身边的女人--甄嬛\", \"<|user|>\", example[\"instruction\"][0] + example[\"input\"][0] + \"<|assistant|>\"]).strip()+ \"\\n\"\n",
    "    instruction = tokenizer.encode(text=text_instruction,add_special_tokens=True, truncation=True, max_length=MAX_LENGTH)\n",
    "\n",
    "\n",
    "    # response文本、编码\n",
    "    text_response = example[\"output\"][0]\n",
    "    response = tokenizer.encode(text=text_response, add_special_tokens=False, truncation=True,max_length=MAX_LENGTH)\n",
    "    \n",
    "\n",
    "\n",
    "    # input_ids编码 = 指令 + 回复 + 结尾\n",
    "    input_ids = instruction + response + [tokenizer.eos_token_id]\n",
    "\n",
    "    \n",
    "    # labels编码 = 填充（长度等于指令） + 回复 + 结尾\n",
    "    labels = [tokenizer.pad_token_id] * len(instruction) + response + [tokenizer.eos_token_id]\n",
    "\n",
    "\n",
    "\n",
    "    # 计算需要填充的长度512 - 64 = 448\n",
    "    pad_len = MAX_LENGTH - len(input_ids) # 计算需要填充的长度\n",
    "    \n",
    "\n",
    "    # input_ids、labels 分别加上填充id，一起组成512长度的固定编码\n",
    "    input_ids = input_ids + [tokenizer.pad_token_id] * pad_len\n",
    "    labels = labels + [tokenizer.pad_token_id] * pad_len\n",
    "\n",
    "    # 处理labels\n",
    "    labels = [(l if l != tokenizer.pad_token_id else -100) for l in labels]\n",
    "    \n",
    "    # 编码返回到数据集\n",
    "    example[\"input_ids\"]=np.array([input_ids])\n",
    "    example[\"labels\"]=np.array([labels])\n",
    "    \n",
    "    return example\n"
   ]
  },
  {
   "cell_type": "code",
   "execution_count": null,
   "metadata": {},
   "outputs": [],
   "source": [
    "# map处理数据集\n",
    "data=train_dataset.map(process_func,batched=True,batch_size=1,drop_last_batch=True)\n",
    "split_dataset = data.train_test_split(test_size=0.1,shuffle=True,seed=123)\n",
    "print(split_dataset)"
   ]
  },
  {
   "cell_type": "code",
   "execution_count": null,
   "metadata": {},
   "outputs": [],
   "source": [
    "# peft微调\n",
    "\n",
    "\n",
    "config = LoraConfig(\n",
    "    task_type=TaskType.CAUSAL_LM, \n",
    "    target_modules=[\"q_proj\",\"up_proj\",\"o_proj\",\"k_proj\",\"down_proj\",\"gate_proj\",\"v_proj\"],\n",
    "    inference_mode=False, # 训练模式\n",
    "    r=128, # Lora 秩\n",
    "    lora_alpha=32, # Lora alaph，具体作用参见 Lora 原理\n",
    "    lora_dropout=0.9, # Dropout 比例\n",
    "    bias='none'\n",
    ")\n",
    "\n",
    "model = get_peft_model(model,config) # 生成了一个Lora模型\n",
    "model.print_trainable_parameters()\n",
    "\n"
   ]
  },
  {
   "cell_type": "code",
   "execution_count": null,
   "metadata": {},
   "outputs": [],
   "source": [
    "training_args = TrainingArguments(\n",
    "    output_dir=\"output_dir/bigscience/mt0-large-lora\",\n",
    "    learning_rate=1e-3,\n",
    "    per_device_train_batch_size=1,\n",
    "    per_device_eval_batch_size=1,\n",
    "    num_train_epochs=100,\n",
    "    max_steps=100,\n",
    "    weight_decay=0.01,\n",
    "    evaluation_strategy=\"steps\",\n",
    "    save_strategy=\"steps\",\n",
    "    load_best_model_at_end=True,\n",
    ")\n",
    "data_collator = DataCollatorForSeq2Seq(\n",
    "    tokenizer,\n",
    "    model=model,\n",
    "    label_pad_token_id=-100,\n",
    "    pad_to_multiple_of=None,\n",
    "    padding=False\n",
    ")\n",
    "\n"
   ]
  },
  {
   "cell_type": "code",
   "execution_count": null,
   "metadata": {},
   "outputs": [],
   "source": [
    "trainer = Trainer(\n",
    "    model=model,\n",
    "    args=training_args,\n",
    "    train_dataset=split_dataset[\"train\"],\n",
    "    eval_dataset=split_dataset[\"test\"],\n",
    "    tokenizer=tokenizer,\n",
    "    data_collator=data_collator,\n",
    "    # compute_metrics=compute_metrics,\n",
    ")\n",
    "\n",
    "trainer.train()\n",
    "model.save_pretrained(\"output_dir\")"
   ]
  },
  {
   "cell_type": "code",
   "execution_count": null,
   "metadata": {},
   "outputs": [],
   "source": [
    "# 训练后再推理\n",
    "model.eval()\n",
    "text = \"你会干什么\"\n",
    "pprint.pprint(inference(model,tokenizer,text))"
   ]
  },
  {
   "cell_type": "code",
   "execution_count": null,
   "metadata": {},
   "outputs": [],
   "source": [
    "# 重新加载\n",
    "from peft import AutoPeftModelForCausalLM\n",
    "\n",
    "model = AutoPeftModelForCausalLM.from_pretrained(\"output_dir\")\n",
    "tokenizer = AutoTokenizer.from_pretrained(model_path)\n",
    "model.eval()\n",
    "model = model.cuda()\n",
    "inputs = tokenizer(\"<|system|>\\n现在你要扮演皇帝身边的女人--甄嬛\\n<|user|>\\n {}\\n{}\".format(\"你是谁？\", \"\").strip() + \"<|assistant|>\\n\", return_tensors=\"pt\").to(model.device)\n",
    "# tokenizer.decode(model.generate(**inputs, max_length=128, do_sample=True)[0], skip_special_tokens=True)\n",
    "\n",
    "# peft官方\n",
    "outputs = model.generate(input_ids=inputs[\"input_ids\"].to(\"cuda\"), max_new_tokens=128)\n",
    "print(tokenizer.batch_decode(outputs.detach().cpu().numpy(), skip_special_tokens=True)[0])\n"
   ]
  }
 ],
 "metadata": {
  "kernelspec": {
   "display_name": "test",
   "language": "python",
   "name": "python3"
  },
  "language_info": {
   "codemirror_mode": {
    "name": "ipython",
    "version": 3
   },
   "file_extension": ".py",
   "mimetype": "text/x-python",
   "name": "python",
   "nbconvert_exporter": "python",
   "pygments_lexer": "ipython3",
   "version": "3.10.14"
  }
 },
 "nbformat": 4,
 "nbformat_minor": 2
}
