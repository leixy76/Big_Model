{
 "cells": [
  {
   "cell_type": "code",
   "execution_count": null,
   "metadata": {},
   "outputs": [],
   "source": [
    "# 导入模块\n",
    "from sentence_transformers import SentenceTransformer\n",
    "from sentence_transformers.cross_encoder import CrossEncoder"
   ]
  },
  {
   "cell_type": "code",
   "execution_count": null,
   "metadata": {},
   "outputs": [],
   "source": []
  },
  {
   "cell_type": "code",
   "execution_count": null,
   "metadata": {},
   "outputs": [],
   "source": [
    "from sentence_transformers import SentenceTransformer\n",
    "\n",
    "# 1. Load a pretrained Sentence Transformer model\n",
    "model = SentenceTransformer(\"all-MiniLM-L6-v2\")\n",
    "\n",
    "# The sentences to encode\n",
    "sentences = [\n",
    "    \"The weather is lovely today.\",\n",
    "    \"It's so sunny outside!\",\n",
    "    \"He drove to the stadium.\",\n",
    "]\n",
    "\n",
    "# 2. Calculate embeddings by calling model.encode()\n",
    "embeddings = model.encode(sentences)\n",
    "print(embeddings.shape)\n",
    "# [3, 384]\n",
    "\n",
    "# 3. Calculate the embedding similarities\n",
    "similarities = model.similarity(embeddings, embeddings)\n",
    "print(similarities)\n",
    "# tensor([[1.0000, 0.6660, 0.1046],\n",
    "#         [0.6660, 1.0000, 0.1411],\n",
    "#         [0.1046, 0.1411, 1.0000]])"
   ]
  },
  {
   "cell_type": "code",
   "execution_count": null,
   "metadata": {},
   "outputs": [],
   "source": [
    "from sentence_transformers.cross_encoder import CrossEncoder\n",
    "\n",
    "# 1. Load a pretrained CrossEncoder model\n",
    "model = CrossEncoder(\"cross-encoder/stsb-distilroberta-base\")\n",
    "\n",
    "# We want to compute the similarity between the query sentence...\n",
    "query = \"A man is eating pasta.\"\n",
    "\n",
    "# ... and all sentences in the corpus\n",
    "corpus = [\n",
    "    \"A man is eating food.\",\n",
    "    \"A man is eating a piece of bread.\",\n",
    "    \"The girl is carrying a baby.\",\n",
    "    \"A man is riding a horse.\",\n",
    "    \"A woman is playing violin.\",\n",
    "    \"Two men pushed carts through the woods.\",\n",
    "    \"A man is riding a white horse on an enclosed ground.\",\n",
    "    \"A monkey is playing drums.\",\n",
    "    \"A cheetah is running behind its prey.\",\n",
    "]\n",
    "\n",
    "# 2. We rank all sentences in the corpus for the query\n",
    "ranks = model.rank(query, corpus)\n",
    "\n",
    "# Print the scores\n",
    "print(\"Query: \", query)\n",
    "for rank in ranks:\n",
    "    print(f\"{rank['score']:.2f}\\t{corpus[rank['corpus_id']]}\")\n",
    "\"\"\"\n",
    "Query:  A man is eating pasta.\n",
    "0.67    A man is eating food.\n",
    "0.34    A man is eating a piece of bread.\n",
    "0.08    A man is riding a horse.\n",
    "0.07    A man is riding a white horse on an enclosed ground.\n",
    "0.01    The girl is carrying a baby.\n",
    "0.01    Two men pushed carts through the woods.\n",
    "0.01    A monkey is playing drums.\n",
    "0.01    A woman is playing violin.\n",
    "0.01    A cheetah is running behind its prey.\n",
    "\"\"\"\n",
    "\n",
    "# 3. Alternatively, you can also manually compute the score between two sentences\n",
    "import numpy as np\n",
    "\n",
    "sentence_combinations = [[query, sentence] for sentence in corpus]\n",
    "scores = model.predict(sentence_combinations)\n",
    "\n",
    "# Sort the scores in decreasing order to get the corpus indices\n",
    "ranked_indices = np.argsort(scores)[::-1]\n",
    "print(\"Scores:\", scores)\n",
    "print(\"Indices:\", ranked_indices)\n",
    "\"\"\"\n",
    "Scores: [0.6732372, 0.34102544, 0.00542465, 0.07569341, 0.00525378, 0.00536814, 0.06676237, 0.00534825, 0.00516717]\n",
    "Indices: [0 1 3 6 2 5 7 4 8]\n",
    "\"\"\""
   ]
  }
 ],
 "metadata": {
  "kernelspec": {
   "display_name": "rag",
   "language": "python",
   "name": "python3"
  },
  "language_info": {
   "codemirror_mode": {
    "name": "ipython",
    "version": 3
   },
   "file_extension": ".py",
   "mimetype": "text/x-python",
   "name": "python",
   "nbconvert_exporter": "python",
   "pygments_lexer": "ipython3",
   "version": "3.10.14"
  }
 },
 "nbformat": 4,
 "nbformat_minor": 2
}
