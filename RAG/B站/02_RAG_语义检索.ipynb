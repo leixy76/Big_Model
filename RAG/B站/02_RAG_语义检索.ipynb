{
 "cells": [
  {
   "cell_type": "markdown",
   "metadata": {},
   "source": [
    "## 任务3：语义检索Embedding模型"
   ]
  },
  {
   "cell_type": "markdown",
   "metadata": {},
   "source": [
    "## M3E-small模型"
   ]
  },
  {
   "cell_type": "code",
   "execution_count": null,
   "metadata": {},
   "outputs": [],
   "source": [
    "# 导入sentence_transformers\n",
    "import json\n",
    "import pdfplumber\n",
    "from sentence_transformers import SentenceTransformer"
   ]
  },
  {
   "cell_type": "code",
   "execution_count": null,
   "metadata": {},
   "outputs": [],
   "source": [
    "# 加载数据集，问题与知识源\n",
    "questions = json.load(open(\"../data/Coggle比赛数据/汽车知识问答/questions.json\",encoding='utf-8'))\n",
    "pdf = pdfplumber.open(\"../data/Coggle比赛数据/汽车知识问答/初赛训练数据集.pdf\")\n",
    "pdf.pages\n",
    "pdf.pages[0].extract_text()\n",
    "# 此工具会将pdf分页，并提取每页的内容"
   ]
  },
  {
   "cell_type": "code",
   "execution_count": null,
   "metadata": {},
   "outputs": [],
   "source": [
    "# 将pdf切分后的东西，将页码和内容组成json,并放在list中\n",
    "pdf_content = []\n",
    "for page_idx in range(len(pdf.pages)):\n",
    "    pdf_content.append({\n",
    "        'page':'page_'+str(page_idx+1),\n",
    "        'content':pdf.pages[page_idx].extract_text()\n",
    "    })\n",
    "pdf_content[:1]"
   ]
  },
  {
   "cell_type": "code",
   "execution_count": null,
   "metadata": {},
   "outputs": [],
   "source": [
    "# 解析question,与pdf中对应的内容（不包括page页码）到list中\n",
    "question_sentences = [x['question'] for x in questions]\n",
    "pdf_content_sentences = [x['content'] for x in pdf_content]\n",
    "\n",
    "pdf_content_sentences[-5]"
   ]
  },
  {
   "cell_type": "code",
   "execution_count": 6,
   "metadata": {},
   "outputs": [],
   "source": [
    "# 加载embedding 模型\n",
    "\n",
    "model = SentenceTransformer(\"moka-ai/m3e-small\")"
   ]
  },
  {
   "cell_type": "code",
   "execution_count": null,
   "metadata": {},
   "outputs": [],
   "source": [
    "# 将问题与pdf中的所有回答进行向量编码\n",
    "question_embeddings = model.encode(question_sentences,normalize_embeddings=True)\n",
    "pdf_embeddings = model.encode(pdf_content_sentences,normalize_embeddings=True)"
   ]
  },
  {
   "cell_type": "code",
   "execution_count": null,
   "metadata": {},
   "outputs": [],
   "source": [
    "for query_idx,feat in enumerate(question_embeddings):\n",
    "    score = feat@pdf_embeddings.T  # 将question中embedding后的每一个问题在pdf_embeddings中做相似度匹配，并打分\n",
    "    max_score_page_idx = score.argsort()[-1]+1 #这是因为内容页的最后都会给出页码\n",
    "    questions[query_idx]['reference']='page_'+str(max_score_page_idx)\n",
    "\n",
    "questions[0]"
   ]
  },
  {
   "cell_type": "code",
   "execution_count": 9,
   "metadata": {},
   "outputs": [],
   "source": [
    "with open('../data/Coggle比赛数据/汽车知识问答/submit_m3e.json', 'w', encoding='utf8') as up:\n",
    "    json.dump(questions, up, ensure_ascii=False, indent=4)"
   ]
  },
  {
   "cell_type": "markdown",
   "metadata": {},
   "source": [
    "## BGE 模型"
   ]
  },
  {
   "cell_type": "code",
   "execution_count": 10,
   "metadata": {},
   "outputs": [],
   "source": [
    "model = SentenceTransformer(\"BAAI/bge-small-zh-v1.5\")"
   ]
  },
  {
   "cell_type": "code",
   "execution_count": 11,
   "metadata": {},
   "outputs": [],
   "source": [
    "# 将问题与pdf中的所有回答进行向量编码\n",
    "question_embeddings = model.encode(question_sentences,normalize_embeddings=True)\n",
    "pdf_embeddings = model.encode(pdf_content_sentences,normalize_embeddings=True)"
   ]
  },
  {
   "cell_type": "code",
   "execution_count": null,
   "metadata": {},
   "outputs": [],
   "source": [
    "for query_idx,feat in enumerate(question_embeddings):\n",
    "    score = feat@pdf_embeddings.T  # 将question中embedding后的每一个问题在pdf_embeddings中做相似度匹配，并打分\n",
    "    max_score_page_idx = score.argsort()[-1]+1 #这是因为内容页的最后都会给出页码\n",
    "    questions[query_idx]['reference']='page_'+str(max_score_page_idx)\n",
    "\n",
    "questions[0]"
   ]
  },
  {
   "cell_type": "code",
   "execution_count": 13,
   "metadata": {},
   "outputs": [],
   "source": [
    "with open('../data/Coggle比赛数据/汽车知识问答/submit_bge.json', 'w', encoding='utf8') as up:\n",
    "    json.dump(questions, up, ensure_ascii=False, indent=4)"
   ]
  },
  {
   "cell_type": "markdown",
   "metadata": {},
   "source": [
    "## BCEmbedding"
   ]
  },
  {
   "cell_type": "code",
   "execution_count": 14,
   "metadata": {},
   "outputs": [],
   "source": [
    "model = SentenceTransformer(\"maidalun1020/bce-embedding-base_v1\",device='cuda')\n",
    "model.max_seq_length=512"
   ]
  },
  {
   "cell_type": "code",
   "execution_count": 15,
   "metadata": {},
   "outputs": [],
   "source": [
    "# 将问题与pdf中的所有回答进行向量编码\n",
    "question_embeddings = model.encode(question_sentences,normalize_embeddings=True)\n",
    "pdf_embeddings = model.encode(pdf_content_sentences,normalize_embeddings=True)"
   ]
  },
  {
   "cell_type": "code",
   "execution_count": null,
   "metadata": {},
   "outputs": [],
   "source": [
    "for query_idx,feat in enumerate(question_embeddings):\n",
    "    score = feat@pdf_embeddings.T  # 将question中embedding后的每一个问题在pdf_embeddings中做相似度匹配，并打分\n",
    "    max_score_page_idx = score.argsort()[-1]+1 #这是因为内容页的最后都会给出页码\n",
    "    questions[query_idx]['reference']='page_'+str(max_score_page_idx)\n",
    "\n",
    "questions[0]"
   ]
  },
  {
   "cell_type": "code",
   "execution_count": 17,
   "metadata": {},
   "outputs": [],
   "source": [
    "with open('../data/Coggle比赛数据/汽车知识问答/submit_base_v1.json', 'w', encoding='utf8') as up:\n",
    "    json.dump(questions, up, ensure_ascii=False, indent=4)"
   ]
  }
 ],
 "metadata": {
  "kernelspec": {
   "display_name": "Python 3",
   "language": "python",
   "name": "python3"
  },
  "language_info": {
   "codemirror_mode": {
    "name": "ipython",
    "version": 3
   },
   "file_extension": ".py",
   "mimetype": "text/x-python",
   "name": "python",
   "nbconvert_exporter": "python",
   "pygments_lexer": "ipython3",
   "version": "3.10.14"
  }
 },
 "nbformat": 4,
 "nbformat_minor": 4
}
