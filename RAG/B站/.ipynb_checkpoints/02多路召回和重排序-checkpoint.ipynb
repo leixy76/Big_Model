{
 "cells": [
  {
   "cell_type": "markdown",
   "id": "156264d7-30e1-4c44-97a7-04d12a80eeec",
   "metadata": {},
   "source": [
    "## 任务4：文本多路召回与重排序\n",
    "## BM25+BGE"
   ]
  },
  {
   "cell_type": "code",
   "execution_count": 1,
   "id": "fa99e185-cce1-4ebb-87e1-c78b698f65f9",
   "metadata": {},
   "outputs": [
    {
     "name": "stderr",
     "output_type": "stream",
     "text": [
      "D:\\ProgramData\\miniconda3\\envs\\big_model\\lib\\site-packages\\sentence_transformers\\cross_encoder\\CrossEncoder.py:11: TqdmExperimentalWarning: Using `tqdm.autonotebook.tqdm` in notebook mode. Use `tqdm.tqdm` instead to force console mode (e.g. in jupyter console)\n",
      "  from tqdm.autonotebook import tqdm, trange\n"
     ]
    }
   ],
   "source": [
    "# 导入数据库\n",
    "import jieba,json,pdfplumber\n",
    "import numpy as np\n",
    "from sklearn.feature_extraction.text import TfidfVectorizer\n",
    "from sklearn.preprocessing import normalize\n",
    "from rank_bm25 import BM25Okapi\n",
    "import torch\n",
    "from sentence_transformers import SentenceTransformer"
   ]
  },
  {
   "cell_type": "code",
   "execution_count": 2,
   "id": "3eb15c06-e722-459a-83d3-438acaf40487",
   "metadata": {},
   "outputs": [
    {
     "data": {
      "text/plain": [
       "{'page': 'page_354',\n",
       " 'content': '技术资料\\n公制术语\\n术语 说明\\n术语 说明\\nN 牛\\n% 百分比 Nm 牛米\\nX:1 比值 V 伏特\\n℃ 摄氏温度 W 瓦特\\nAh 安时 kPa 千帕\\nm 米 kW 千瓦\\ncm 厘米\\nmm 毫米\\ng 克\\nkg 千克\\nh 小时\\nmin 分钟\\ns 秒\\nrpm 每分钟转数\\nkm/h 千米每小时\\nL 升\\nmL 毫升\\n354'}"
      ]
     },
     "execution_count": 2,
     "metadata": {},
     "output_type": "execute_result"
    }
   ],
   "source": [
    "# 加载训练数据\n",
    "\n",
    "## 加载问题\n",
    "questions = json.load(open(\"../data/Coggle比赛数据/汽车知识问答/questions.json\",encoding=\"utf8\"))\n",
    "\n",
    "## 加载知识pdf\n",
    "pdf = pdfplumber.open(\"../data/Coggle比赛数据/汽车知识问答/初赛训练数据集.pdf\")\n",
    "\n",
    "# 预处理\n",
    "pdf_content = []\n",
    "for page_idx in range(len(pdf.pages)):\n",
    "    pdf_content.append({\n",
    "        \"page\": \"page_\"+str(page_idx+1),\n",
    "        \"content\": pdf.pages[page_idx].extract_text()\n",
    "    })\n",
    "\n",
    "pdf_content[-1] # 最后默认有一个页码"
   ]
  },
  {
   "cell_type": "code",
   "execution_count": 3,
   "id": "15cab23d-f3ff-4208-b213-9b75b4342988",
   "metadata": {},
   "outputs": [
    {
     "name": "stderr",
     "output_type": "stream",
     "text": [
      "Building prefix dict from the default dictionary ...\n",
      "Loading model from cache C:\\Users\\yx140\\AppData\\Local\\Temp\\jieba.cache\n",
      "Loading model cost 0.311 seconds.\n",
      "Prefix dict has been built successfully.\n"
     ]
    }
   ],
   "source": [
    "# bm25处理数据\n",
    "\n",
    "## jieba切分成单词\n",
    "pdf_content_words = [jieba.lcut(x[\"content\"]) for x in pdf_content]\n",
    "\n",
    "# bm25 训练\n",
    "bm25 = BM25Okapi(pdf_content_words) # 喂给bm25的就是单词"
   ]
  },
  {
   "cell_type": "code",
   "execution_count": 19,
   "id": "fdf63099-fbb7-4288-b729-d7ba14866c9c",
   "metadata": {},
   "outputs": [
    {
     "data": {
      "text/plain": [
       "'感器。请勿使用玻璃清洁剂清洁内后视镜。\\n胎压监测系统\\n您的车辆配备主动式胎压监测'"
      ]
     },
     "execution_count": 19,
     "metadata": {},
     "output_type": "execute_result"
    }
   ],
   "source": [
    "# embedding 模型处理数据\n",
    "\n",
    "## 加载模型\n",
    "model = SentenceTransformer(\"BAAI/bge-small-zh-v1.5\",device='cuda')\n",
    "\n",
    "## 处理句子分词\n",
    "questions_sentences = [x['question'] for x in questions]\n",
    "pdf_content_sentences = [x[\"content\"] for x in pdf_content]\n",
    "\n",
    "# # embedding处理\n",
    "question_embeddings = model.encode(questions_sentences,normalize_embeddings=True)\n",
    "pdf_embeddings = model.encode(pdf_content_sentences,normalize_embeddings=True)\n",
    "pdf_content_sentences[789]"
   ]
  },
  {
   "cell_type": "code",
   "execution_count": 5,
   "id": "a5089d3d-02a6-4167-8d18-a0d05d509a44",
   "metadata": {},
   "outputs": [],
   "source": [
    "# 双路召回\n",
    "from scipy.stats import rankdata #用于为数组中的元素分配排名，\n",
    "\n",
    "for query_idx,feat in enumerate(question_embeddings):\n",
    "\n",
    "    # embedding计算相似度并打分\n",
    "    score1 = feat@pdf_embeddings.T \n",
    "    score2 = bm25.get_scores(jieba.lcut(questions[query_idx]['question']))\n",
    "    \n",
    "    score = rankdata(score1)+rankdata(score2)\n",
    "    max_score_page_idx = score.argsort()[-1] + 1\n",
    "    questions[query_idx][\"reference\"] = 'page_' + str(max_score_page_idx)\n",
    "    \n"
   ]
  },
  {
   "cell_type": "code",
   "execution_count": 6,
   "id": "87b19ad6-6a78-4cdf-b63a-2bab242796a7",
   "metadata": {},
   "outputs": [],
   "source": [
    "# 保存双路召回的结果\n",
    "with open('../data/Coggle比赛数据/汽车知识问答/submit_bm25_bgesmall.json', 'w', encoding='utf8') as up:\n",
    "    json.dump(questions, up, ensure_ascii=False, indent=4)"
   ]
  },
  {
   "cell_type": "markdown",
   "id": "7ca8ce4a-1cea-451a-bc7a-d9a21f8537bf",
   "metadata": {},
   "source": [
    "## BGE/Text Segment"
   ]
  },
  {
   "cell_type": "code",
   "execution_count": 8,
   "id": "f0f58cd8-0362-427f-8178-791a8f5376bb",
   "metadata": {},
   "outputs": [],
   "source": [
    "# 导入库\n",
    "import jieba, json, pdfplumber\n",
    "import numpy as np\n",
    "from sklearn.feature_extraction.text import TfidfVectorizer\n",
    "from sklearn.preprocessing import normalize\n",
    "from rank_bm25 import BM25Okapi\n",
    "import torch\n",
    "from sentence_transformers import SentenceTransformer\n",
    "\n",
    "## 加载问题\n",
    "questions = json.load(open(\"../data/Coggle比赛数据/汽车知识问答/questions.json\",encoding=\"utf8\"))\n",
    "\n",
    "## 加载知识pdf\n",
    "pdf = pdfplumber.open(\"../data/Coggle比赛数据/汽车知识问答/初赛训练数据集.pdf\")\n"
   ]
  },
  {
   "cell_type": "code",
   "execution_count": 10,
   "id": "320e1c47-fe30-4583-bd8f-b10b6901c998",
   "metadata": {},
   "outputs": [],
   "source": [
    "# 切分 文本\n",
    "def split_text_fixed_size(text,chunk_size): # 将[]中的多条做一个向量化，并非之前一句做一个向量化\n",
    "    return [text[i : i+chunk_size] for i in range( 0 , len(text), chunk_size)]\n",
    "\n",
    "pdf_content=[]\n",
    "for page_idx in range(len(pdf.pages)):\n",
    "\n",
    "    # 把每一页的所有文本提炼出来[]\n",
    "    text = pdf.pages[page_idx].extract_text()\n",
    "\n",
    "    # 每40句组成一个embedding组\n",
    "    for chunk_text in split_text_fixed_size(text,40):\n",
    "        pdf_content.append({\n",
    "            'page':'page_'+str(page_idx + 1),\n",
    "            'content':chunk_text\n",
    "        })"
   ]
  },
  {
   "cell_type": "code",
   "execution_count": 18,
   "id": "b82a9d9f-b7c7-49ec-9d01-3b2202b8fcee",
   "metadata": {},
   "outputs": [
    {
     "data": {
      "text/plain": [
       "'感器。请勿使用玻璃清洁剂清洁内后视镜。\\n胎压监测系统\\n您的车辆配备主动式胎压监测'"
      ]
     },
     "execution_count": 18,
     "metadata": {},
     "output_type": "execute_result"
    }
   ],
   "source": [
    "# 加载模型\n",
    "\n",
    "model = SentenceTransformer(\"BAAI/bge-small-zh-v1.5\",device='cuda')\n",
    "\n",
    "## 处理句子分词\n",
    "questions_sentences = [x['question'] for x in questions]\n",
    "pdf_content_sentences = [x[\"content\"] for x in pdf_content] #pdf_content里现在是一段，而不是一个句子了\n",
    "\n",
    "# # embedding处理\n",
    "question_embeddings = model.encode(questions_sentences,normalize_embeddings=True)\n",
    "pdf_embeddings = model.encode(pdf_content_sentences,normalize_embeddings=True)\n",
    "\n",
    "pdf_content_sentences[789]"
   ]
  },
  {
   "cell_type": "code",
   "execution_count": null,
   "id": "c7774c60-58d0-4baa-a460-7da946bf7eca",
   "metadata": {},
   "outputs": [],
   "source": [
    "# 召回评分\n",
    "for query_idx,feat in enumerate(question_embeddings):\n",
    "    score = feat@pdf_embeddings.T\n",
    "    max_score_page_idx = score.argmax()[-1]\n",
    "    questions[query_idx]['reference'] = pdf_content[max_score_page_idx]['page']"
   ]
  }
 ],
 "metadata": {
  "kernelspec": {
   "display_name": "Python 3 (ipykernel)",
   "language": "python",
   "name": "python3"
  },
  "language_info": {
   "codemirror_mode": {
    "name": "ipython",
    "version": 3
   },
   "file_extension": ".py",
   "mimetype": "text/x-python",
   "name": "python",
   "nbconvert_exporter": "python",
   "pygments_lexer": "ipython3",
   "version": "3.10.14"
  }
 },
 "nbformat": 4,
 "nbformat_minor": 5
}
