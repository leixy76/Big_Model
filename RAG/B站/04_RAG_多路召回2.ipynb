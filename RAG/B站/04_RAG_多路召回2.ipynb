{
 "cells": [
  {
   "cell_type": "markdown",
   "id": "befac4f2",
   "metadata": {},
   "source": [
    "## 任务6：多路召回+重排序case2"
   ]
  },
  {
   "cell_type": "markdown",
   "id": "e1d0075e",
   "metadata": {},
   "source": [
    "## BM25 (gensim)\n",
    "#### 教学"
   ]
  },
  {
   "cell_type": "code",
   "execution_count": 47,
   "id": "c0820d18-5c28-4aa7-b236-173d2acdd7b8",
   "metadata": {},
   "outputs": [],
   "source": [
    "from gensim.corpora import Dictionary\n",
    "from gensim.models import TfidfModel,OkapiBM25Model\n",
    "from gensim.similarities import SparseMatrixSimilarity\n",
    "import numpy as np"
   ]
  },
  {
   "cell_type": "code",
   "execution_count": 48,
   "id": "4381543b-8769-42cf-9b4a-1e37022d4bbf",
   "metadata": {},
   "outputs": [
    {
     "data": {
      "text/plain": [
       "['今天 很开心', '明天 也 很开心', 'Python is programming language']"
      ]
     },
     "execution_count": 48,
     "metadata": {},
     "output_type": "execute_result"
    }
   ],
   "source": [
    "corpus =[\n",
    "    \"今天 很开心\",\n",
    "    \"明天 也 很开心\",\n",
    "    \"Python is programming language\"\n",
    "]\n",
    "corpus"
   ]
  },
  {
   "cell_type": "code",
   "execution_count": 49,
   "id": "c68990e9-bd97-4ccc-b783-3bfc74f374fa",
   "metadata": {},
   "outputs": [
    {
     "data": {
      "text/plain": [
       "[['今天', '很开心'],\n",
       " ['明天', '也', '很开心'],\n",
       " ['python', 'is', 'programming', 'language']]"
      ]
     },
     "execution_count": 49,
     "metadata": {},
     "output_type": "execute_result"
    }
   ],
   "source": [
    "corpus_split = [doc.lower().split() for doc in corpus]\n",
    "corpus_split"
   ]
  },
  {
   "cell_type": "code",
   "execution_count": 50,
   "id": "3daf7d2a-0899-4dbd-b701-0df718bc3e1e",
   "metadata": {},
   "outputs": [
    {
     "name": "stdout",
     "output_type": "stream",
     "text": [
      "0 今天\n",
      "1 很开心\n",
      "2 也\n",
      "3 明天\n",
      "4 is\n",
      "5 language\n",
      "6 programming\n",
      "7 python\n"
     ]
    }
   ],
   "source": [
    "dictionary=Dictionary(corpus_split)  ## 这个是将里面的每个value进行了去重，生成词典\n",
    "for key,value in dictionary.items():\n",
    "    print(key,value)"
   ]
  },
  {
   "cell_type": "code",
   "execution_count": 51,
   "id": "7afdbb30",
   "metadata": {},
   "outputs": [],
   "source": [
    "bm25_model = OkapiBM25Model(dictionary=dictionary) # 相当于给模型喂一本词典"
   ]
  },
  {
   "cell_type": "code",
   "execution_count": 52,
   "id": "19586640-4f54-4d39-a694-1eaf0e750386",
   "metadata": {},
   "outputs": [],
   "source": [
    "\n",
    "\n",
    "# dictionary.doc2bow：是一个方法，用来将文档表示为词袋的形式（Bag of Words），即将文档中的单词转换成整数索引，并计算它们的词频\n",
    "# map(dictionary.doc2bow,corpus_split)：对corpus_split中的每个文档应用转换成词袋的表示形式\n",
    "# list是将这些词袋表示的文档重新组合成一个列表\n",
    "# bm25_model[...] 这部分代码使用了 Python 中的列表推导式，对 list(map(dictionary.doc2bow, corpus_split)) 中的每个文档应用了 bm25_model，即将文档转换为 Okapi BM25 模型的表示形式。\n",
    "# bm25_model[list(map(dictionary.doc2bow, corpus_split))] 这行代码实际上是将整个语料库（由 corpus_split 表示）转换为 Okapi BM25 模型的表示形式，以便后续用于相似性计算和搜索\n",
    "\n",
    "bm25_corpus = bm25_model[list(map(dictionary.doc2bow,corpus_split))] # 先转换成词袋，再转换成模型的表示形式\n",
    "# for i in bm25_corpus:\n",
    "#     print(i)"
   ]
  },
  {
   "cell_type": "code",
   "execution_count": 53,
   "id": "fa680d7f-ad55-4a17-899a-72e9335145f4",
   "metadata": {},
   "outputs": [],
   "source": [
    "# bm25_corpus 是已经通过 Okapi BM25 模型处理过的语料库，其中每个文档都被表示为一个 Okapi BM25 模型表示形式。\n",
    "# SparseMatrixSimilarity 是 Gensim 库中的类，用于构建一个稀疏矩阵相似性索引器。\n",
    "# num_docs=len(corpus_split) 指定了语料库中文档的数量，这里使用了 len(corpus_split) 来获取文档数量。\n",
    "# num_terms=len(dictionary) 指定了语料库中的唯一词汇数量，这里使用了 len(dictionary) 来获取词汇数量。\n",
    "# normalize_queries=False 表示不对查询进行规范化，即不对查询向量进行归一化处理。\n",
    "# normalize_documents=False 表示不对文档进行规范化，即不对文档向量进行归一化处理。\n",
    "# 因此，整个行代码的含义是在基于 Okapi BM25 模型处理过的语料库上构建一个稀疏矩阵相似性索引器 bm25_index，以便后续用于执行相似性搜索操作。这个索引器可以用于计算查询与文档之间的相似性得分，从而找到与查询最匹配的文档。\n",
    "# 生成了相似性索引器\n",
    "bm25_index = SparseMatrixSimilarity(bm25_corpus,num_docs=len(corpus_split),num_terms=len(dictionary),normalize_queries=False,normalize_documents=False)\n"
   ]
  },
  {
   "cell_type": "code",
   "execution_count": 54,
   "id": "f14150a9",
   "metadata": {},
   "outputs": [
    {
     "name": "stdout",
     "output_type": "stream",
     "text": [
      "[0.60097134 0.         0.        ]\n",
      "['今天', '很开心']\n"
     ]
    }
   ],
   "source": [
    "query = [\"learn\",\"今天\"]\n",
    "tfidf_model=TfidfModel(dictionary=dictionary,smartirs='bnn') # 使用之前的 字典，并bnn指定了对查询进行二进制加权\n",
    "tfidf_query = tfidf_model[dictionary.doc2bow(query)] #将查询词转换成词袋的表示，并进行TF-IDF加权 \n",
    "smiilarities = bm25_index[tfidf_query]  # 用相似性索引器 计算查询文本tfidf_query与语料库中的每个文档的相似性得分\n",
    "print(smiilarities) # 打印出与每个文档的相似性得分\n",
    "best_document=corpus_split[np.argmax(smiilarities)] # 找出相似性得分最大的，并且输出索引，最后查询出词\n",
    "print(best_document)"
   ]
  },
  {
   "cell_type": "markdown",
   "id": "b6cbbc86",
   "metadata": {},
   "source": [
    "## BM25 (gensim)\n",
    "#### 真实数据"
   ]
  },
  {
   "cell_type": "code",
   "execution_count": 55,
   "id": "de5d6fd6",
   "metadata": {},
   "outputs": [],
   "source": [
    "# 1. 导入模块\n",
    "from datasets import load_dataset\n",
    "import jieba\n",
    "from tqdm import tqdm\n",
    "import numpy as np\n",
    "import pandas as pd\n",
    "from sklearn.metrics import ndcg_score"
   ]
  },
  {
   "cell_type": "code",
   "execution_count": 56,
   "id": "0ac99bec",
   "metadata": {},
   "outputs": [],
   "source": [
    "# 2. 导入数据\n",
    "data = load_dataset('C-MTEB/DuRetrieval')\n",
    "qrels = load_dataset('C-MTEB/DuRetrieval-qrels')"
   ]
  },
  {
   "cell_type": "code",
   "execution_count": 57,
   "id": "98c1be00",
   "metadata": {},
   "outputs": [
    {
     "data": {
      "text/plain": [
       "DatasetDict({\n",
       "    corpus: Dataset({\n",
       "        features: ['id', 'text'],\n",
       "        num_rows: 100001\n",
       "    })\n",
       "    queries: Dataset({\n",
       "        features: ['id', 'text'],\n",
       "        num_rows: 2000\n",
       "    })\n",
       "})"
      ]
     },
     "execution_count": 57,
     "metadata": {},
     "output_type": "execute_result"
    }
   ],
   "source": [
    "# 3. 展示数据\n",
    "data # 数据集中的2000条问题和100001条知识库"
   ]
  },
  {
   "cell_type": "code",
   "execution_count": 58,
   "id": "7133e02c",
   "metadata": {},
   "outputs": [
    {
     "data": {
      "text/plain": [
       "DatasetDict({\n",
       "    dev: Dataset({\n",
       "        features: ['qid', 'pid', 'score'],\n",
       "        num_rows: 9839\n",
       "    })\n",
       "})"
      ]
     },
     "execution_count": 58,
     "metadata": {},
     "output_type": "execute_result"
    }
   ],
   "source": [
    "qrels # 问题对应答案的索引"
   ]
  },
  {
   "cell_type": "code",
   "execution_count": 35,
   "id": "5a8b480b",
   "metadata": {},
   "outputs": [
    {
     "data": {
      "text/html": [
       "<div>\n",
       "<style scoped>\n",
       "    .dataframe tbody tr th:only-of-type {\n",
       "        vertical-align: middle;\n",
       "    }\n",
       "\n",
       "    .dataframe tbody tr th {\n",
       "        vertical-align: top;\n",
       "    }\n",
       "\n",
       "    .dataframe thead th {\n",
       "        text-align: right;\n",
       "    }\n",
       "</style>\n",
       "<table border=\"1\" class=\"dataframe\">\n",
       "  <thead>\n",
       "    <tr style=\"text-align: right;\">\n",
       "      <th></th>\n",
       "      <th>id</th>\n",
       "      <th>text</th>\n",
       "    </tr>\n",
       "  </thead>\n",
       "  <tbody>\n",
       "    <tr>\n",
       "      <th>0</th>\n",
       "      <td>2c4fe63d3378ac39907b6b2648eb40c5</td>\n",
       "      <td>一年国家法定节假日为11天。根据公布的国家法定节假日调整方案，调整的主要内容包括：元旦放假1...</td>\n",
       "    </tr>\n",
       "    <tr>\n",
       "      <th>1</th>\n",
       "      <td>5bc347ff17d488f1704e2893c9e8ecfa</td>\n",
       "      <td>【导读】根据现行我国《全国年节及纪念日放假办法》规定,全体公民放假的法定节假日总共有11天,...</td>\n",
       "    </tr>\n",
       "    <tr>\n",
       "      <th>2</th>\n",
       "      <td>1132b79d0bc37fc0d6f975904a8c0343</td>\n",
       "      <td>答：国家规定的2016年法定节假日累计有11天。2016年法定假日一览表元旦：规定在1月1日...</td>\n",
       "    </tr>\n",
       "    <tr>\n",
       "      <th>3</th>\n",
       "      <td>6e67389d07da8ce02ed97167d23baf9d</td>\n",
       "      <td>现在法定假日是元旦1天，春节3天，清明节1天，五一劳动节1天，端午节1天，国庆节3天，中秋节...</td>\n",
       "    </tr>\n",
       "    <tr>\n",
       "      <th>4</th>\n",
       "      <td>ac02549bbcd642d8d43321b94cd9b62b</td>\n",
       "      <td>国家法定有薪假11天。根据国务院《全国年节及纪念日放假办法》规定，国家法定全体公民有薪假11...</td>\n",
       "    </tr>\n",
       "  </tbody>\n",
       "</table>\n",
       "</div>"
      ],
      "text/plain": [
       "                                 id  \\\n",
       "0  2c4fe63d3378ac39907b6b2648eb40c5   \n",
       "1  5bc347ff17d488f1704e2893c9e8ecfa   \n",
       "2  1132b79d0bc37fc0d6f975904a8c0343   \n",
       "3  6e67389d07da8ce02ed97167d23baf9d   \n",
       "4  ac02549bbcd642d8d43321b94cd9b62b   \n",
       "\n",
       "                                                text  \n",
       "0  一年国家法定节假日为11天。根据公布的国家法定节假日调整方案，调整的主要内容包括：元旦放假1...  \n",
       "1  【导读】根据现行我国《全国年节及纪念日放假办法》规定,全体公民放假的法定节假日总共有11天,...  \n",
       "2  答：国家规定的2016年法定节假日累计有11天。2016年法定假日一览表元旦：规定在1月1日...  \n",
       "3  现在法定假日是元旦1天，春节3天，清明节1天，五一劳动节1天，端午节1天，国庆节3天，中秋节...  \n",
       "4  国家法定有薪假11天。根据国务院《全国年节及纪念日放假办法》规定，国家法定全体公民有薪假11...  "
      ]
     },
     "execution_count": 35,
     "metadata": {},
     "output_type": "execute_result"
    }
   ],
   "source": [
    "corpus_show = pd.DataFrame(data[\"corpus\"]) # 答案text 和id\n",
    "corpus_show[:5] "
   ]
  },
  {
   "cell_type": "code",
   "execution_count": 36,
   "id": "9186258d",
   "metadata": {},
   "outputs": [
    {
     "data": {
      "text/html": [
       "<div>\n",
       "<style scoped>\n",
       "    .dataframe tbody tr th:only-of-type {\n",
       "        vertical-align: middle;\n",
       "    }\n",
       "\n",
       "    .dataframe tbody tr th {\n",
       "        vertical-align: top;\n",
       "    }\n",
       "\n",
       "    .dataframe thead th {\n",
       "        text-align: right;\n",
       "    }\n",
       "</style>\n",
       "<table border=\"1\" class=\"dataframe\">\n",
       "  <thead>\n",
       "    <tr style=\"text-align: right;\">\n",
       "      <th></th>\n",
       "      <th>id</th>\n",
       "      <th>text</th>\n",
       "    </tr>\n",
       "  </thead>\n",
       "  <tbody>\n",
       "    <tr>\n",
       "      <th>0</th>\n",
       "      <td>edb58f525bd14724d6f490722fa8a657</td>\n",
       "      <td>国家法定节假日共多少天</td>\n",
       "    </tr>\n",
       "    <tr>\n",
       "      <th>1</th>\n",
       "      <td>a451acd1e9836b04b16664e9f0c290e5</td>\n",
       "      <td>如何查看好友申请</td>\n",
       "    </tr>\n",
       "    <tr>\n",
       "      <th>2</th>\n",
       "      <td>48a8338aefaff17573048a088a08de70</td>\n",
       "      <td>哪个网站有湖南卫视直播</td>\n",
       "    </tr>\n",
       "    <tr>\n",
       "      <th>3</th>\n",
       "      <td>7871706c5cb1a1d6912ff8222434ccbd</td>\n",
       "      <td>功和功率的区别</td>\n",
       "    </tr>\n",
       "    <tr>\n",
       "      <th>4</th>\n",
       "      <td>2b22b972c4e30776b9160fc83ee05367</td>\n",
       "      <td>徐州旅行社哪家好</td>\n",
       "    </tr>\n",
       "  </tbody>\n",
       "</table>\n",
       "</div>"
      ],
      "text/plain": [
       "                                 id         text\n",
       "0  edb58f525bd14724d6f490722fa8a657  国家法定节假日共多少天\n",
       "1  a451acd1e9836b04b16664e9f0c290e5     如何查看好友申请\n",
       "2  48a8338aefaff17573048a088a08de70  哪个网站有湖南卫视直播\n",
       "3  7871706c5cb1a1d6912ff8222434ccbd      功和功率的区别\n",
       "4  2b22b972c4e30776b9160fc83ee05367     徐州旅行社哪家好"
      ]
     },
     "execution_count": 36,
     "metadata": {},
     "output_type": "execute_result"
    }
   ],
   "source": [
    "queries_show = pd.DataFrame(data[\"queries\"]) # 问题text 和id\n",
    "queries_show[:5] "
   ]
  },
  {
   "cell_type": "code",
   "execution_count": 37,
   "id": "83264009",
   "metadata": {},
   "outputs": [],
   "source": [
    "# 4. 知识库处理\n",
    "corpus = [jieba.lcut(x['text']) for x in data[\"corpus\"]] # 生成答案，知识库"
   ]
  },
  {
   "cell_type": "code",
   "execution_count": 38,
   "id": "9cd725c2",
   "metadata": {},
   "outputs": [],
   "source": [
    "# 5. 知识库相似度模型处理\n",
    "dictionary=Dictionary(corpus)\n",
    "bm25_model = OkapiBM25Model(dictionary=dictionary)\n",
    "bm25_corpus=bm25_model[list(map(dictionary.doc2bow,corpus))]\n",
    "bm25_index = SparseMatrixSimilarity(bm25_corpus,num_docs=len(corpus),num_terms=len(dictionary),normalize_documents=False,normalize_queries=False)\n"
   ]
  },
  {
   "cell_type": "code",
   "execution_count": 39,
   "id": "37bbb9ea",
   "metadata": {},
   "outputs": [],
   "source": [
    "# 6. 问题模型\n",
    "tfidf_model=TfidfModel(dictionary=dictionary,smartirs='afc')"
   ]
  },
  {
   "cell_type": "code",
   "execution_count": 40,
   "id": "7a37423a",
   "metadata": {},
   "outputs": [
    {
     "name": "stdout",
     "output_type": "stream",
     "text": [
      "CPU times: total: 15.6 ms\n",
      "Wall time: 15.6 ms\n"
     ]
    },
    {
     "data": {
      "text/plain": [
       "'该 经验 图片 、 文字 中 可能 存在 外站 链接 或 电话号码 等 , 请 注意 识别 , 谨防 上当受骗 ! 百度 经验 : jingyan . baidu . com 在 之前 win7 的 设置 中 大部分 操作 都 是 在 控制面板 中 完成 的 , 可是 在 新 的 win10 系统 中 却 发现 控制面板 很难 找 了 , 那么 在 哪里 能 找到 呢 ? 让 我 来 告诉 你 吧 ~ 百度 经验 : jingyan . baidu . com 百度 经验 : jingyan . baidu . com1   打开 开始菜单 , 点击 所有 应用   步骤 阅读   2   找到 windows 系统 , 点击 打开 下级菜单   步骤 阅读   3   在 当中 找到 控制面板 点击 打开 即可   步骤 阅读   END 百度 经验 : jingyan . baidu . com'"
      ]
     },
     "execution_count": 40,
     "metadata": {},
     "output_type": "execute_result"
    }
   ],
   "source": [
    "# 7. 对问题求相似度\n",
    "%%time\n",
    "query=\"请注意识别，谨防上当受骗！\" # 对当前问题查询出相似度最高的知识库中的句子\n",
    "query = jieba.lcut(query)\n",
    "tfidf_query=tfidf_model[dictionary.doc2bow(query)]\n",
    "similarities = bm25_index[tfidf_query]\n",
    "best_document = corpus[np.argmax(similarities)]\n",
    "\" \".join(best_document)"
   ]
  },
  {
   "cell_type": "code",
   "execution_count": 41,
   "id": "fd45c371",
   "metadata": {},
   "outputs": [],
   "source": [
    "# 1. 将问题与答案映射id处理成字典\n",
    "qrels_dict={x['qid']:x[\"pid\"] for x in qrels[\"dev\"]} # 问题与答案的id，index\n",
    "pid_array = np.array(x[\"id\"] for x in data[\"corpus\"]) # 答案的id"
   ]
  },
  {
   "cell_type": "code",
   "execution_count": 42,
   "id": "ed25672f",
   "metadata": {},
   "outputs": [],
   "source": [
    "# 2. 直接导入rank_bm25模型\n",
    "from rank_bm25 import BM25Okapi\n",
    "tokenized_corpus = [jieba.lcut(x[\"text\"]) for x in data[\"corpus\"]]\n",
    "bm25 = BM25Okapi(tokenized_corpus)\n",
    "\n",
    "tfidf_model=TfidfModel(dictionary=dictionary,smartirs='afc')"
   ]
  },
  {
   "cell_type": "code",
   "execution_count": 59,
   "id": "dbb6dd47",
   "metadata": {},
   "outputs": [
    {
     "name": "stderr",
     "output_type": "stream",
     "text": [
      "100%|██████████| 2000/2000 [03:58<00:00,  8.39it/s]\n"
     ]
    }
   ],
   "source": [
    "# 3. 准确度计算\n",
    "topn = 30\n",
    "query_ndcg_score = []\n",
    "for query_data in tqdm(data['queries']):\n",
    "    query = jieba.lcut(query_data['text']) # 问题\n",
    "    \n",
    "    query_qid = query_data['id'] # 问题id\n",
    "    query_pids = qrels_dict[query_qid] # 对应的答案id\n",
    "\n",
    "    # 计算相似度矩阵的两种方式\n",
    "    similarities = np.array(bm25.get_scores(query))\n",
    "    # similarities=bm25_index[tfidf_query]\n",
    "\n",
    "    top_results = similarities.argsort()[::-1][:topn]\n",
    "    top_results = [data['corpus'][int(x)]['id'] for x in top_results]\n",
    "    true_relevance  = [[x in query_pids for x in top_results]]\n",
    "    scores = [list(similarities[similarities.argsort()[::-1][:topn]])]\n",
    "\n",
    "    query_ndcg_score.append(ndcg_score(true_relevance, scores))"
   ]
  },
  {
   "cell_type": "code",
   "execution_count": 60,
   "id": "02bda541",
   "metadata": {},
   "outputs": [
    {
     "data": {
      "text/plain": [
       "(0.3449331376092457, 0.3423558128037693)"
      ]
     },
     "execution_count": 60,
     "metadata": {},
     "output_type": "execute_result"
    }
   ],
   "source": [
    "np.mean(query_ndcg_score), np.std(query_ndcg_score)"
   ]
  }
 ],
 "metadata": {
  "kernelspec": {
   "display_name": "Python 3",
   "language": "python",
   "name": "python3"
  },
  "language_info": {
   "codemirror_mode": {
    "name": "ipython",
    "version": 3
   },
   "file_extension": ".py",
   "mimetype": "text/x-python",
   "name": "python",
   "nbconvert_exporter": "python",
   "pygments_lexer": "ipython3",
   "version": "3.10.14"
  }
 },
 "nbformat": 4,
 "nbformat_minor": 5
}
