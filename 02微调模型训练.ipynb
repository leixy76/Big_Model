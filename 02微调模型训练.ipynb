{
 "cells": [
  {
   "cell_type": "code",
   "execution_count": 1,
   "metadata": {},
   "outputs": [
    {
     "name": "stderr",
     "output_type": "stream",
     "text": [
      "d:\\ProgramData\\miniconda3\\envs\\test\\Lib\\site-packages\\tqdm\\auto.py:21: TqdmWarning: IProgress not found. Please update jupyter and ipywidgets. See https://ipywidgets.readthedocs.io/en/stable/user_install.html\n",
      "  from .autonotebook import tqdm as notebook_tqdm\n"
     ]
    },
    {
     "name": "stdout",
     "output_type": "stream",
     "text": [
      "2.2.0+cpu\n"
     ]
    }
   ],
   "source": [
    "# 导入库\n",
    "from transformers import AutoTokenizer,AutoModelForCausalLM,TrainingArguments,Trainer\n",
    "from datasets import load_dataset\n",
    "import pprint\n",
    "import torch\n",
    "print(torch.__version__)"
   ]
  },
  {
   "cell_type": "code",
   "execution_count": 2,
   "metadata": {},
   "outputs": [],
   "source": [
    "# 配置模型、数据\n",
    "model_name=\"EleutherAI/pythia-70m\" #hugging face模型\n",
    "dataset_path=\"lamini/lamini_docs\" #hugging face数据"
   ]
  },
  {
   "cell_type": "code",
   "execution_count": 3,
   "metadata": {},
   "outputs": [
    {
     "name": "stderr",
     "output_type": "stream",
     "text": [
      "d:\\ProgramData\\miniconda3\\envs\\test\\Lib\\site-packages\\transformers\\tokenization_utils_base.py:1601: FutureWarning: `clean_up_tokenization_spaces` was not set. It will be set to `True` by default. This behavior will be depracted in transformers v4.45, and will be then set to `False` by default. For more details check this issue: https://github.com/huggingface/transformers/issues/31884\n",
      "  warnings.warn(\n"
     ]
    },
    {
     "name": "stdout",
     "output_type": "stream",
     "text": [
      "设备类型： cpu\n",
      "模型结构\n",
      " GPTNeoXForCausalLM(\n",
      "  (gpt_neox): GPTNeoXModel(\n",
      "    (embed_in): Embedding(50304, 512)\n",
      "    (emb_dropout): Dropout(p=0.0, inplace=False)\n",
      "    (layers): ModuleList(\n",
      "      (0-5): 6 x GPTNeoXLayer(\n",
      "        (input_layernorm): LayerNorm((512,), eps=1e-05, elementwise_affine=True)\n",
      "        (post_attention_layernorm): LayerNorm((512,), eps=1e-05, elementwise_affine=True)\n",
      "        (post_attention_dropout): Dropout(p=0.0, inplace=False)\n",
      "        (post_mlp_dropout): Dropout(p=0.0, inplace=False)\n",
      "        (attention): GPTNeoXSdpaAttention(\n",
      "          (rotary_emb): GPTNeoXRotaryEmbedding()\n",
      "          (query_key_value): Linear(in_features=512, out_features=1536, bias=True)\n",
      "          (dense): Linear(in_features=512, out_features=512, bias=True)\n",
      "          (attention_dropout): Dropout(p=0.0, inplace=False)\n",
      "        )\n",
      "        (mlp): GPTNeoXMLP(\n",
      "          (dense_h_to_4h): Linear(in_features=512, out_features=2048, bias=True)\n",
      "          (dense_4h_to_h): Linear(in_features=2048, out_features=512, bias=True)\n",
      "          (act): GELUActivation()\n",
      "        )\n",
      "      )\n",
      "    )\n",
      "    (final_layer_norm): LayerNorm((512,), eps=1e-05, elementwise_affine=True)\n",
      "  )\n",
      "  (embed_out): Linear(in_features=512, out_features=50304, bias=False)\n",
      ")\n"
     ]
    }
   ],
   "source": [
    "# 加载分词器\n",
    "tokenizer = AutoTokenizer.from_pretrained(model_name)\n",
    "tokenizer.pad_token=tokenizer.eos_token # 以0填充\n",
    "\n",
    "#加载模型\n",
    "base_model=AutoModelForCausalLM.from_pretrained(model_name)\n",
    "\n",
    "# 输出模型使用的device\n",
    "device_count=torch.cuda.device_count()\n",
    "\n",
    "if device_count>0:\n",
    "    device=torch.device(\"cuda\")\n",
    "else:\n",
    "    device = torch.device('cpu')\n",
    "print(\"设备类型：\",device)\n",
    "print(\"模型结构\\n\",base_model)\n"
   ]
  },
  {
   "cell_type": "code",
   "execution_count": 4,
   "metadata": {},
   "outputs": [],
   "source": [
    "# 加载训练集测试集数据\n",
    "train_dataset=load_dataset(path=dataset_path,split=\"train\")\n",
    "test_dataset=load_dataset(path=dataset_path,split=\"test\")"
   ]
  },
  {
   "cell_type": "code",
   "execution_count": 5,
   "metadata": {},
   "outputs": [],
   "source": [
    "# 定义推理函数,根据问题回答的函数,相当于机器学习中的预测\n",
    "## 训练之前先预测看看效果\n",
    "def inference(text,model,tokenizer,max_input_tokens=1000,max_output_tokens=100):\n",
    "    # Tokenize 文本分词，生成分词编码，类型为pytorch的张量tensor,tokens\n",
    "    input_ids = tokenizer.encode(text,return_tensors='pt',truncation=True,max_length=max_input_tokens)\n",
    "\n",
    "    # Generate 模型根据这些编码tensor的tokens，生成内容的tokens，模型生成的最大的词元数量为100\n",
    "    device = model.device\n",
    "    generated_tokens_with_prompt=model.generate(\n",
    "        input_ids=input_ids.to(device),\n",
    "        max_length=max_output_tokens # 生成更过内容时，需要更多时间\n",
    "    )\n",
    "\n",
    "    # Decode 对模型生成的tokens用分词器解码\n",
    "    generated_text_with_prompt = tokenizer.batch_decode(generated_tokens_with_prompt)\n",
    "    \n",
    "    # Strip the prompt # 删除初始的提示词，让它只返回结果\n",
    "    generated_text_answer=generated_text_with_prompt[0][len(text):]\n",
    "    \n",
    "    return generated_text_answer\n"
   ]
  },
  {
   "cell_type": "code",
   "execution_count": 6,
   "metadata": {},
   "outputs": [
    {
     "name": "stdout",
     "output_type": "stream",
     "text": [
      "问题为：\n",
      "Can Lamini generate technical documentation or user manuals for software projects?\n",
      "默认回答为：\n",
      "Yes, Lamini can generate technical documentation and user manuals for software projects. It uses natural language generation techniques to create clear and concise documentation that is easy to understand for both technical and non-technical users. This can save developers a significant amount of time and effort in creating documentation, allowing them to focus on other aspects of their projects.\n",
      "模型的推理结果为：\n"
     ]
    },
    {
     "name": "stderr",
     "output_type": "stream",
     "text": [
      "The attention mask and the pad token id were not set. As a consequence, you may observe unexpected behavior. Please pass your input's `attention_mask` to obtain reliable results.\n",
      "Setting `pad_token_id` to `eos_token_id`:0 for open-end generation.\n",
      "The attention mask is not set and cannot be inferred from input because pad token is same as eos token. As a consequence, you may observe unexpected behavior. Please pass your input's `attention_mask` to obtain reliable results.\n"
     ]
    },
    {
     "name": "stdout",
     "output_type": "stream",
     "text": [
      "('\\n'\n",
      " '\\n'\n",
      " 'I have a question about the following:\\n'\n",
      " '\\n'\n",
      " 'How do I get the correct documentation to work?\\n'\n",
      " '\\n'\n",
      " 'A:\\n'\n",
      " '\\n'\n",
      " 'I think you need to use the following code:\\n'\n",
      " '\\n'\n",
      " 'A:\\n'\n",
      " '\\n'\n",
      " 'You can use the following code to get the correct documentation.\\n'\n",
      " '\\n'\n",
      " 'A:\\n'\n",
      " '\\n'\n",
      " 'You can use the following code to get the correct documentation.\\n'\n",
      " '\\n'\n",
      " 'A:\\n'\n",
      " '\\n'\n",
      " 'You can use the following')\n"
     ]
    }
   ],
   "source": [
    "# 测试集测试\n",
    "test_text=test_dataset[0][\"question\"] # 取第0行的question列\n",
    "print(\"问题为：\")\n",
    "print(test_text)\n",
    "print(\"默认回答为：\")\n",
    "print(test_dataset[0][\"answer\"])\n",
    "\n",
    "print(\"模型的推理结果为：\")\n",
    "pprint.pprint(inference(test_text,base_model,tokenizer=tokenizer))\n"
   ]
  },
  {
   "cell_type": "code",
   "execution_count": 7,
   "metadata": {},
   "outputs": [],
   "source": [
    "# 定义微调训练的参数\n",
    "## 定义输出模型样式\n",
    "max_steps=3 # 定义最大步数\n",
    "trained_model_name = f\"lamini_docs_{max_steps}_steps\"\n",
    "output_dir=trained_model_name\n",
    "\n",
    "## 定义训练参数\n",
    "training_args=TrainingArguments(\n",
    "\n",
    "    # 学习率\n",
    "    learning_rate=1.0e-5, #解释: 学习率是优化器调整模型权重时的步长大小。一个较小的学习率意味着每次更新的步伐较小，从而使训练过程更加稳定，但也可能导致训练速度变慢。\n",
    "                          #设置: 1.0e-5，这是一个非常小的学习率，通常用于微调模型时，以确保模型在小范围内更新，避免对预训练模型的权重造成较大修改。\n",
    "\n",
    "    # epochs数，对整个数据集遍历的次数\n",
    "    num_train_epochs=1,   #解释: 最大训练轮次，即整个训练集将被迭代的次数。一个 epoch 代表模型经过一次完整的训练数据集。\n",
    "                          #设置: 1，意味着模型将整个训练数据集遍历一次。这通常用于实验或在数据量较小的情况下。\n",
    "\n",
    "    # 对模型的更新次数\n",
    "    max_steps=max_steps,  #解释: 最大训练步数，即模型在训练期间所处理的批次数。这个参数与 max_train_epochs 互斥使用，通常用来设置训练的步数上限。\n",
    "                          #设置: 这个参数的具体值没有在这里列出，但它需要与 max_train_epochs 一起考虑，以避免重复计算。\n",
    "\n",
    "    # 每个设备上训练时的批量大小。批量大小决定了每次梯度更新时使用多少样本。\n",
    "    per_device_train_batch_size=1,  #解释: 每个设备上训练时的批量大小。批量大小决定了每次梯度更新时使用多少样本。\n",
    "                                    #设置: 1，这表示每个设备每次训练只处理一个样本，这可能会导致训练速度较慢，但可以在显存较小的情况下进行训练。\n",
    "\n",
    "    # 模型快照的保存路径\n",
    "    output_dir=output_dir,\n",
    "\n",
    "    # 其他参数\n",
    "    overwrite_output_dir=False, #覆写输出目录的内容\n",
    "    disable_tqdm=False, #关闭过程进度条\n",
    "    eval_steps=120, #每隔120步进行一次评估\n",
    "    save_steps=120, #每隔120步进行一次保存\n",
    "    warmup_steps=1, #预热步骤数。在训练初期，学习率会逐渐增加到设定的学习率，然后再进行正常训练。设置: 1，表示训练的前 1 步进行学习率预热。\n",
    "    per_device_eval_batch_size=1,  # 每个设备上评估时的批量大小。\n",
    "    eval_strategy=\"steps\", # 评估策略，按照步数进行评估\n",
    "    logging_strategy=\"steps\", #按照步数，记录日志\n",
    "    logging_steps=1, # 每一步记录一次\n",
    "    optim=\"adafactor\",#使用 Adafactor 优化器，这是一种用于大规模模型的优化算法。\n",
    "    gradient_accumulation_steps=4, #解释: 梯度累积步骤数。在这个步骤数内累积梯度，然后进行一次参数更新。这有助于在显存较小的情况下使用较大的有效批量大小。设置: 4，表示每积累 4 个步骤的梯度后再进行一次更新\n",
    "    gradient_checkpointing=False,#解释: 是否启用梯度检查点技术。这种技术可以节省显存，但会增加计算时间。设置: False，表示不启用梯度检查点。\n",
    "\n",
    "    # 设置提前停止的参数\n",
    "    load_best_model_at_end=True, #解释: 是否在训练结束时加载最佳模型。通常与提前停止机制一起使用。设置: True，表示在训练结束时自动加载在评估指标上表现最好的模型。\n",
    "    save_total_limit=1, #解释: 最大保存检查点数量。如果设置了这个限制，系统将保留最近的检查点，而删除较早的检查点。设置: 1，表示只保留一个最新的检查点，删除旧的检查点以节省存储空间。\n",
    "    metric_for_best_model=\"eval_loss\", # 解释: 用于确定最佳模型的评估指标。设置: \"eval_loss\"，表示以评估损失作为选择最佳模型的依据。\n",
    "    greater_is_better=False #解释: 指定是否指标越大越好。如果设为 True，则较高的指标值表示模型性能更好；如果设为 False，则较低的指标值表示模型性能更好。设置: False，表示评估损失越小越好。\n",
    ")"
   ]
  },
  {
   "cell_type": "code",
   "execution_count": 8,
   "metadata": {},
   "outputs": [
    {
     "name": "stdout",
     "output_type": "stream",
     "text": [
      "Memory footprint 0.3084454 GB\n",
      "Flops 2195.667812352 GFLOPs\n"
     ]
    }
   ],
   "source": [
    "# 训练模型的配置\n",
    "training_config={\n",
    "    \"model\":{\n",
    "        \"pretrained_name\":model_name,\n",
    "        \"max_length\":2048\n",
    "    },\n",
    "    \"dataset\":{\n",
    "        \"path\":dataset_path\n",
    "    },\n",
    "    \"verbose\":True\n",
    "}\n",
    "\n",
    "# 展示模型占用内存空间\n",
    "model_flops=(\n",
    "    base_model.floating_point_ops(\n",
    "        {\n",
    "            \"input_ids\":torch.zeros(\n",
    "                (1,training_config[\"model\"][\"max_length\"])\n",
    "            )\n",
    "        }\n",
    "    )\n",
    "    *training_args.gradient_accumulation_steps\n",
    ")\n",
    "\n",
    "# 模型内存占用\n",
    "print(\"Memory footprint\",base_model.get_memory_footprint()/1e9,\"GB\")\n",
    "print(\"Flops\",model_flops/1e9,\"GFLOPs\")\n"
   ]
  },
  {
   "cell_type": "code",
   "execution_count": 9,
   "metadata": {},
   "outputs": [
    {
     "name": "stderr",
     "output_type": "stream",
     "text": [
      "max_steps is given, it will override any value given in num_train_epochs\n"
     ]
    }
   ],
   "source": [
    "# 模型训练\n",
    "trainer=Trainer(\n",
    "    model=base_model,\n",
    "    args=training_args,\n",
    "    train_dataset=train_dataset,\n",
    "    eval_dataset=test_dataset\n",
    ")\n",
    "\n",
    "trainer.train()"
   ]
  },
  {
   "cell_type": "code",
   "execution_count": 10,
   "metadata": {},
   "outputs": [
    {
     "name": "stderr",
     "output_type": "stream",
     "text": [
      " 33%|███▎      | 1/3 [00:02<00:04,  2.30s/it]"
     ]
    },
    {
     "name": "stdout",
     "output_type": "stream",
     "text": [
      "{'loss': 4.1562, 'grad_norm': 76.75840759277344, 'learning_rate': 1e-05, 'epoch': 0.0}\n"
     ]
    },
    {
     "name": "stderr",
     "output_type": "stream",
     "text": [
      " 67%|██████▋   | 2/3 [00:04<00:02,  2.33s/it]"
     ]
    },
    {
     "name": "stdout",
     "output_type": "stream",
     "text": [
      "{'loss': 3.0686, 'grad_norm': 56.99319839477539, 'learning_rate': 5e-06, 'epoch': 0.01}\n"
     ]
    },
    {
     "name": "stderr",
     "output_type": "stream",
     "text": [
      "100%|██████████| 3/3 [00:06<00:00,  2.26s/it]"
     ]
    },
    {
     "name": "stdout",
     "output_type": "stream",
     "text": [
      "{'loss': 3.8929, 'grad_norm': 54.15830612182617, 'learning_rate': 0.0, 'epoch': 0.01}\n"
     ]
    },
    {
     "name": "stderr",
     "output_type": "stream",
     "text": [
      "100%|██████████| 3/3 [00:07<00:00,  2.43s/it]"
     ]
    },
    {
     "name": "stdout",
     "output_type": "stream",
     "text": [
      "{'train_runtime': 7.2905, 'train_samples_per_second': 1.646, 'train_steps_per_second': 0.411, 'train_loss': 3.705877145131429, 'epoch': 0.01}\n"
     ]
    },
    {
     "name": "stderr",
     "output_type": "stream",
     "text": [
      "\n"
     ]
    },
    {
     "data": {
      "text/plain": [
       "TrainOutput(global_step=3, training_loss=3.705877145131429, metrics={'train_runtime': 7.2905, 'train_samples_per_second': 1.646, 'train_steps_per_second': 0.411, 'total_flos': 269634011136.0, 'train_loss': 3.705877145131429, 'epoch': 0.009523809523809525})"
      ]
     },
     "execution_count": 10,
     "metadata": {},
     "output_type": "execute_result"
    }
   ],
   "source": [
    "# 保存模型\n",
    "save_dir=f'{output_dir}/final'\n",
    "\n",
    "trainer.save_model(save_dir)\n",
    "print(\"模型保存至：\",save_dir)"
   ]
  },
  {
   "cell_type": "code",
   "execution_count": null,
   "metadata": {},
   "outputs": [],
   "source": []
  }
 ],
 "metadata": {
  "kernelspec": {
   "display_name": "test",
   "language": "python",
   "name": "python3"
  },
  "language_info": {
   "codemirror_mode": {
    "name": "ipython",
    "version": 3
   },
   "file_extension": ".py",
   "mimetype": "text/x-python",
   "name": "python",
   "nbconvert_exporter": "python",
   "pygments_lexer": "ipython3",
   "version": "3.12.4"
  }
 },
 "nbformat": 4,
 "nbformat_minor": 2
}
